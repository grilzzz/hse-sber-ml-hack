{
 "cells": [
  {
   "cell_type": "markdown",
   "id": "7fc8f7ef-149d-4ddb-b138-6ed8250d21ab",
   "metadata": {
    "tags": []
   },
   "source": [
    "## План\n",
    "\n",
    "* Удалить выбросы\n",
    "* Удалить редкие категори\n",
    "* Логарифмирование трат\n",
    "* tf-idf для категориальных фичей\n",
    "* Разбиение операций на траты и пополнения"
   ]
  },
  {
   "cell_type": "code",
   "execution_count": 124,
   "id": "38223580-3fa2-4b83-934b-a450c4d4d454",
   "metadata": {
    "tags": []
   },
   "outputs": [],
   "source": [
    "import pandas as pd\n",
    "import matplotlib.pyplot as plt\n",
    "from sklearn.preprocessing import OneHotEncoder\n",
    "import numpy as np\n",
    "from sklearn.metrics import roc_auc_score\n",
    "from time import time\n",
    "import matplotlib.pyplot as plt\n",
    "from sklearn.model_selection import cross_val_score, KFold\n",
    "from sklearn.feature_extraction.text import TfidfVectorizer\n",
    "from sklearn.inspection import permutation_importance\n",
    "from sklearn.preprocessing import MinMaxScaler\n",
    "from sklearn.ensemble import BaggingClassifier\n",
    "from catboost import CatBoostClassifier\n",
    "from xgboost import XGBClassifier\n",
    "from sklearn.model_selection import train_test_split\n",
    "from sklearn.metrics import roc_auc_score"
   ]
  },
  {
   "cell_type": "code",
   "execution_count": 301,
   "id": "465e5cd8-528d-4a83-8bb5-41072a4aa9f0",
   "metadata": {
    "tags": []
   },
   "outputs": [],
   "source": [
    "transactions = pd.read_csv('data/transactions.csv')\n",
    "\n",
    "genders = pd.read_csv('data/train.csv', encoding = \"utf-8\")\n",
    "genders = genders.drop('Unnamed: 0', axis = 1)\n",
    "\n",
    "trans_types = pd.read_csv('data/trans_types.csv', encoding = \"utf-8\", sep=';')\n",
    "\n",
    "mcc_codes = pd.read_csv('data/mcc_codes.csv', sep=';')"
   ]
  },
  {
   "cell_type": "code",
   "execution_count": 302,
   "id": "df1cace7-4713-4c55-b186-b3ebb5d58fd8",
   "metadata": {
    "tags": []
   },
   "outputs": [
    {
     "data": {
      "text/html": [
       "<div>\n",
       "<style scoped>\n",
       "    .dataframe tbody tr th:only-of-type {\n",
       "        vertical-align: middle;\n",
       "    }\n",
       "\n",
       "    .dataframe tbody tr th {\n",
       "        vertical-align: top;\n",
       "    }\n",
       "\n",
       "    .dataframe thead th {\n",
       "        text-align: right;\n",
       "    }\n",
       "</style>\n",
       "<table border=\"1\" class=\"dataframe\">\n",
       "  <thead>\n",
       "    <tr style=\"text-align: right;\">\n",
       "      <th></th>\n",
       "      <th>client_id</th>\n",
       "      <th>trans_time</th>\n",
       "      <th>mcc_code</th>\n",
       "      <th>trans_type</th>\n",
       "      <th>amount</th>\n",
       "      <th>term_id</th>\n",
       "      <th>trans_city</th>\n",
       "    </tr>\n",
       "  </thead>\n",
       "  <tbody>\n",
       "    <tr>\n",
       "      <th>0</th>\n",
       "      <td>d1bbbc9a0e0410d3cf12a3d2f44f3450</td>\n",
       "      <td>35 08:24:41</td>\n",
       "      <td>4829</td>\n",
       "      <td>2370</td>\n",
       "      <td>-1808.56</td>\n",
       "      <td>NaN</td>\n",
       "      <td>Tver</td>\n",
       "    </tr>\n",
       "    <tr>\n",
       "      <th>1</th>\n",
       "      <td>81c7349f7bdcb661bc7d5f5f0fdac6aa</td>\n",
       "      <td>351 13:27:15</td>\n",
       "      <td>6011</td>\n",
       "      <td>7010</td>\n",
       "      <td>7954.51</td>\n",
       "      <td>442207</td>\n",
       "      <td>Kazan</td>\n",
       "    </tr>\n",
       "    <tr>\n",
       "      <th>2</th>\n",
       "      <td>fc0c7c937f139bd6d1c5b5d0a0023dd3</td>\n",
       "      <td>150 16:03:59</td>\n",
       "      <td>6011</td>\n",
       "      <td>2010</td>\n",
       "      <td>-12293.56</td>\n",
       "      <td>NaN</td>\n",
       "      <td>Khabarovsk</td>\n",
       "    </tr>\n",
       "    <tr>\n",
       "      <th>3</th>\n",
       "      <td>3495487d5beaa5caaa0682fddc38379a</td>\n",
       "      <td>373 11:54:12</td>\n",
       "      <td>6010</td>\n",
       "      <td>7070</td>\n",
       "      <td>49.52</td>\n",
       "      <td>888987</td>\n",
       "      <td>Kaliningrad</td>\n",
       "    </tr>\n",
       "    <tr>\n",
       "      <th>4</th>\n",
       "      <td>07e279042b1da23710fa2f65034d30b9</td>\n",
       "      <td>340 13:11:45</td>\n",
       "      <td>6010</td>\n",
       "      <td>7070</td>\n",
       "      <td>45.29</td>\n",
       "      <td>888918</td>\n",
       "      <td>Saint Petersburg</td>\n",
       "    </tr>\n",
       "  </tbody>\n",
       "</table>\n",
       "</div>"
      ],
      "text/plain": [
       "                          client_id    trans_time  mcc_code  trans_type  \\\n",
       "0  d1bbbc9a0e0410d3cf12a3d2f44f3450   35 08:24:41      4829        2370   \n",
       "1  81c7349f7bdcb661bc7d5f5f0fdac6aa  351 13:27:15      6011        7010   \n",
       "2  fc0c7c937f139bd6d1c5b5d0a0023dd3  150 16:03:59      6011        2010   \n",
       "3  3495487d5beaa5caaa0682fddc38379a  373 11:54:12      6010        7070   \n",
       "4  07e279042b1da23710fa2f65034d30b9  340 13:11:45      6010        7070   \n",
       "\n",
       "     amount term_id        trans_city  \n",
       "0  -1808.56     NaN              Tver  \n",
       "1   7954.51  442207             Kazan  \n",
       "2 -12293.56     NaN        Khabarovsk  \n",
       "3     49.52  888987       Kaliningrad  \n",
       "4     45.29  888918  Saint Petersburg  "
      ]
     },
     "execution_count": 302,
     "metadata": {},
     "output_type": "execute_result"
    }
   ],
   "source": [
    "transactions.head(5)"
   ]
  },
  {
   "cell_type": "code",
   "execution_count": 303,
   "id": "8d49d363-590c-47fd-a733-5f90dd93508a",
   "metadata": {
    "tags": []
   },
   "outputs": [],
   "source": [
    "def apply_log(x):\n",
    "    if x > 0:\n",
    "        return np.log(1+x)\n",
    "    return -np.log(1-x)\n",
    "\n",
    "transactions['amount_log'] = transactions['amount'].apply(apply_log)"
   ]
  },
  {
   "cell_type": "code",
   "execution_count": 304,
   "id": "d2db9b38-7c65-40b5-852a-6a58fbc70877",
   "metadata": {
    "tags": []
   },
   "outputs": [],
   "source": [
    "def work_relax_hours(s):\n",
    "    data = str(s).split()\n",
    "    day = int(data[0])\n",
    "    time = data[1]\n",
    "    h, m, s = map(int, time.split(':'))\n",
    "    return int(25200 < h * 3600 + m * 60 + s < 61200)\n",
    "\n",
    "\n",
    "def time_to_hours(s):\n",
    "    data = str(s).split()\n",
    "    time = data[1]\n",
    "    h, m, s = map(int, time.split(':'))\n",
    "    return h\n",
    "\n",
    "def time_to_day(s):\n",
    "    data = str(s).split()\n",
    "    day = int(data[0])\n",
    "    return day % 7\n",
    "\n",
    "def is_holiday(n):\n",
    "    if n == 5 or n == 6: return 1\n",
    "    return 0"
   ]
  },
  {
   "cell_type": "code",
   "execution_count": 305,
   "id": "2da7a039-8dbf-498d-8e80-85ace1299fd9",
   "metadata": {
    "tags": []
   },
   "outputs": [],
   "source": [
    "def generate_tfidf_features(df, col):\n",
    "    bot = df.groupby('client_id')[col].apply(lambda x: list(x))\n",
    "    \n",
    "    corpus = [' '.join(map(str, x)) for x in bot]\n",
    "    \n",
    "    tfidf = TfidfVectorizer()\n",
    "    tfidf.fit(corpus)\n",
    "\n",
    "    tfidf_features = pd.DataFrame(\n",
    "        tfidf.transform(corpus).A,\n",
    "        columns=[f'tfidf_{col}_{k}' for k in tfidf.get_feature_names_out()]\n",
    "    )\n",
    "    tfidf_features['client_id'] = bot.index\n",
    "\n",
    "    return tfidf_features\n",
    "\n",
    "\n",
    "# def generate_one_hot_features(df, col):\n",
    "#     return pd.get_dummies(transactions[['client_id', col]], columns=[col], dtype=int).groupby('client_id').sum()"
   ]
  },
  {
   "cell_type": "code",
   "execution_count": 306,
   "id": "1191df99-6d92-4d47-a82c-b38750ae80b4",
   "metadata": {
    "tags": []
   },
   "outputs": [],
   "source": [
    "def generate_pivot_features(df, col, value, aggfuncs):\n",
    "    pivot = df.pivot_table(values=[value], index=['client_id'], columns=[col], aggfunc=aggfuncs)\n",
    "    pivot.columns = [f'{col}_{lst[-1]}_{value}_{aggfuncs if len(lst) < 3 else lst[0]}' for lst in pivot.columns]\n",
    "    return pivot.reset_index()"
   ]
  },
  {
   "cell_type": "code",
   "execution_count": 307,
   "id": "739b262f-7e16-4b3c-bac5-e7e17233ee70",
   "metadata": {
    "tags": []
   },
   "outputs": [],
   "source": [
    "transactions['work_relax'] = transactions['trans_time'].apply(work_relax_hours)\n",
    "transactions['day'] = transactions['trans_time'].apply(time_to_day)\n",
    "transactions['is_holiday'] = transactions['day'].apply(is_holiday)\n",
    "transactions['hour'] = transactions['trans_time'].apply(time_to_hours)\n",
    "\n",
    "transactions.drop(['trans_time', 'term_id'], axis=1, inplace=True)"
   ]
  },
  {
   "cell_type": "code",
   "execution_count": 85,
   "id": "fc27a3e5-9c0c-4796-ab8d-e69986f84158",
   "metadata": {},
   "outputs": [],
   "source": [
    "# transactions = transactions[(transactions['amount'] > transactions['amount'].quantile(0.01)) & (transactions['amount'] < transactions['amount'].quantile(0.99))]"
   ]
  },
  {
   "cell_type": "code",
   "execution_count": 308,
   "id": "769a9d32-77a6-425e-b09d-47b6acb2ba37",
   "metadata": {
    "tags": []
   },
   "outputs": [],
   "source": [
    "transactions.loc[transactions['amount'] > 0, 'amount_pos'] = transactions['amount']\n",
    "transactions.loc[transactions['amount'] <= 0, 'amount_neg'] = transactions['amount']"
   ]
  },
  {
   "cell_type": "code",
   "execution_count": 309,
   "id": "cef2ea68-2de5-4116-8597-0178d8b77a00",
   "metadata": {
    "tags": []
   },
   "outputs": [
    {
     "data": {
      "text/html": [
       "<div>\n",
       "<style scoped>\n",
       "    .dataframe tbody tr th:only-of-type {\n",
       "        vertical-align: middle;\n",
       "    }\n",
       "\n",
       "    .dataframe tbody tr th {\n",
       "        vertical-align: top;\n",
       "    }\n",
       "\n",
       "    .dataframe thead th {\n",
       "        text-align: right;\n",
       "    }\n",
       "</style>\n",
       "<table border=\"1\" class=\"dataframe\">\n",
       "  <thead>\n",
       "    <tr style=\"text-align: right;\">\n",
       "      <th></th>\n",
       "      <th>client_id</th>\n",
       "      <th>mcc_code</th>\n",
       "      <th>trans_type</th>\n",
       "      <th>amount</th>\n",
       "      <th>trans_city</th>\n",
       "      <th>amount_log</th>\n",
       "      <th>work_relax</th>\n",
       "      <th>day</th>\n",
       "      <th>is_holiday</th>\n",
       "      <th>hour</th>\n",
       "      <th>amount_pos</th>\n",
       "      <th>amount_neg</th>\n",
       "    </tr>\n",
       "  </thead>\n",
       "  <tbody>\n",
       "    <tr>\n",
       "      <th>0</th>\n",
       "      <td>d1bbbc9a0e0410d3cf12a3d2f44f3450</td>\n",
       "      <td>4829</td>\n",
       "      <td>2370</td>\n",
       "      <td>-1808.56</td>\n",
       "      <td>Tver</td>\n",
       "      <td>-7.500839</td>\n",
       "      <td>1</td>\n",
       "      <td>0</td>\n",
       "      <td>0</td>\n",
       "      <td>8</td>\n",
       "      <td>NaN</td>\n",
       "      <td>-1808.56</td>\n",
       "    </tr>\n",
       "    <tr>\n",
       "      <th>1</th>\n",
       "      <td>81c7349f7bdcb661bc7d5f5f0fdac6aa</td>\n",
       "      <td>6011</td>\n",
       "      <td>7010</td>\n",
       "      <td>7954.51</td>\n",
       "      <td>Kazan</td>\n",
       "      <td>8.981620</td>\n",
       "      <td>1</td>\n",
       "      <td>1</td>\n",
       "      <td>0</td>\n",
       "      <td>13</td>\n",
       "      <td>7954.51</td>\n",
       "      <td>NaN</td>\n",
       "    </tr>\n",
       "    <tr>\n",
       "      <th>2</th>\n",
       "      <td>fc0c7c937f139bd6d1c5b5d0a0023dd3</td>\n",
       "      <td>6011</td>\n",
       "      <td>2010</td>\n",
       "      <td>-12293.56</td>\n",
       "      <td>Khabarovsk</td>\n",
       "      <td>-9.416912</td>\n",
       "      <td>1</td>\n",
       "      <td>3</td>\n",
       "      <td>0</td>\n",
       "      <td>16</td>\n",
       "      <td>NaN</td>\n",
       "      <td>-12293.56</td>\n",
       "    </tr>\n",
       "    <tr>\n",
       "      <th>3</th>\n",
       "      <td>3495487d5beaa5caaa0682fddc38379a</td>\n",
       "      <td>6010</td>\n",
       "      <td>7070</td>\n",
       "      <td>49.52</td>\n",
       "      <td>Kaliningrad</td>\n",
       "      <td>3.922369</td>\n",
       "      <td>1</td>\n",
       "      <td>2</td>\n",
       "      <td>0</td>\n",
       "      <td>11</td>\n",
       "      <td>49.52</td>\n",
       "      <td>NaN</td>\n",
       "    </tr>\n",
       "    <tr>\n",
       "      <th>4</th>\n",
       "      <td>07e279042b1da23710fa2f65034d30b9</td>\n",
       "      <td>6010</td>\n",
       "      <td>7070</td>\n",
       "      <td>45.29</td>\n",
       "      <td>Saint Petersburg</td>\n",
       "      <td>3.834926</td>\n",
       "      <td>1</td>\n",
       "      <td>4</td>\n",
       "      <td>0</td>\n",
       "      <td>13</td>\n",
       "      <td>45.29</td>\n",
       "      <td>NaN</td>\n",
       "    </tr>\n",
       "    <tr>\n",
       "      <th>...</th>\n",
       "      <td>...</td>\n",
       "      <td>...</td>\n",
       "      <td>...</td>\n",
       "      <td>...</td>\n",
       "      <td>...</td>\n",
       "      <td>...</td>\n",
       "      <td>...</td>\n",
       "      <td>...</td>\n",
       "      <td>...</td>\n",
       "      <td>...</td>\n",
       "      <td>...</td>\n",
       "      <td>...</td>\n",
       "    </tr>\n",
       "    <tr>\n",
       "      <th>3563524</th>\n",
       "      <td>e91858185ae43cf3970220748893a01b</td>\n",
       "      <td>6010</td>\n",
       "      <td>7070</td>\n",
       "      <td>227.40</td>\n",
       "      <td>Penza</td>\n",
       "      <td>5.431098</td>\n",
       "      <td>1</td>\n",
       "      <td>6</td>\n",
       "      <td>1</td>\n",
       "      <td>13</td>\n",
       "      <td>227.40</td>\n",
       "      <td>NaN</td>\n",
       "    </tr>\n",
       "    <tr>\n",
       "      <th>3563525</th>\n",
       "      <td>429b6c8255f13bdb506fdbd6e342ccb1</td>\n",
       "      <td>4814</td>\n",
       "      <td>1030</td>\n",
       "      <td>-1084.44</td>\n",
       "      <td>Khabarovsk</td>\n",
       "      <td>-6.989741</td>\n",
       "      <td>0</td>\n",
       "      <td>3</td>\n",
       "      <td>0</td>\n",
       "      <td>19</td>\n",
       "      <td>NaN</td>\n",
       "      <td>-1084.44</td>\n",
       "    </tr>\n",
       "    <tr>\n",
       "      <th>3563526</th>\n",
       "      <td>9443b6a0d948cf368d8d72eb295bdfdf</td>\n",
       "      <td>5411</td>\n",
       "      <td>1110</td>\n",
       "      <td>-569.20</td>\n",
       "      <td>Tver</td>\n",
       "      <td>-6.345987</td>\n",
       "      <td>0</td>\n",
       "      <td>6</td>\n",
       "      <td>1</td>\n",
       "      <td>23</td>\n",
       "      <td>NaN</td>\n",
       "      <td>-569.20</td>\n",
       "    </tr>\n",
       "    <tr>\n",
       "      <th>3563527</th>\n",
       "      <td>1be75d38ad89c0f2b4d85b95f0fd8069</td>\n",
       "      <td>5814</td>\n",
       "      <td>1110</td>\n",
       "      <td>-71.43</td>\n",
       "      <td>Vladivostok</td>\n",
       "      <td>-4.282621</td>\n",
       "      <td>0</td>\n",
       "      <td>3</td>\n",
       "      <td>0</td>\n",
       "      <td>23</td>\n",
       "      <td>NaN</td>\n",
       "      <td>-71.43</td>\n",
       "    </tr>\n",
       "    <tr>\n",
       "      <th>3563528</th>\n",
       "      <td>8d69e4ecae4b509d528b9a0168f749d0</td>\n",
       "      <td>6010</td>\n",
       "      <td>7070</td>\n",
       "      <td>50.92</td>\n",
       "      <td>Kazan</td>\n",
       "      <td>3.949704</td>\n",
       "      <td>0</td>\n",
       "      <td>1</td>\n",
       "      <td>0</td>\n",
       "      <td>19</td>\n",
       "      <td>50.92</td>\n",
       "      <td>NaN</td>\n",
       "    </tr>\n",
       "  </tbody>\n",
       "</table>\n",
       "<p>3563529 rows × 12 columns</p>\n",
       "</div>"
      ],
      "text/plain": [
       "                                client_id  mcc_code  trans_type    amount  \\\n",
       "0        d1bbbc9a0e0410d3cf12a3d2f44f3450      4829        2370  -1808.56   \n",
       "1        81c7349f7bdcb661bc7d5f5f0fdac6aa      6011        7010   7954.51   \n",
       "2        fc0c7c937f139bd6d1c5b5d0a0023dd3      6011        2010 -12293.56   \n",
       "3        3495487d5beaa5caaa0682fddc38379a      6010        7070     49.52   \n",
       "4        07e279042b1da23710fa2f65034d30b9      6010        7070     45.29   \n",
       "...                                   ...       ...         ...       ...   \n",
       "3563524  e91858185ae43cf3970220748893a01b      6010        7070    227.40   \n",
       "3563525  429b6c8255f13bdb506fdbd6e342ccb1      4814        1030  -1084.44   \n",
       "3563526  9443b6a0d948cf368d8d72eb295bdfdf      5411        1110   -569.20   \n",
       "3563527  1be75d38ad89c0f2b4d85b95f0fd8069      5814        1110    -71.43   \n",
       "3563528  8d69e4ecae4b509d528b9a0168f749d0      6010        7070     50.92   \n",
       "\n",
       "               trans_city  amount_log  work_relax  day  is_holiday  hour  \\\n",
       "0                    Tver   -7.500839           1    0           0     8   \n",
       "1                   Kazan    8.981620           1    1           0    13   \n",
       "2              Khabarovsk   -9.416912           1    3           0    16   \n",
       "3             Kaliningrad    3.922369           1    2           0    11   \n",
       "4        Saint Petersburg    3.834926           1    4           0    13   \n",
       "...                   ...         ...         ...  ...         ...   ...   \n",
       "3563524             Penza    5.431098           1    6           1    13   \n",
       "3563525        Khabarovsk   -6.989741           0    3           0    19   \n",
       "3563526              Tver   -6.345987           0    6           1    23   \n",
       "3563527       Vladivostok   -4.282621           0    3           0    23   \n",
       "3563528             Kazan    3.949704           0    1           0    19   \n",
       "\n",
       "         amount_pos  amount_neg  \n",
       "0               NaN    -1808.56  \n",
       "1           7954.51         NaN  \n",
       "2               NaN   -12293.56  \n",
       "3             49.52         NaN  \n",
       "4             45.29         NaN  \n",
       "...             ...         ...  \n",
       "3563524      227.40         NaN  \n",
       "3563525         NaN    -1084.44  \n",
       "3563526         NaN     -569.20  \n",
       "3563527         NaN      -71.43  \n",
       "3563528       50.92         NaN  \n",
       "\n",
       "[3563529 rows x 12 columns]"
      ]
     },
     "execution_count": 309,
     "metadata": {},
     "output_type": "execute_result"
    }
   ],
   "source": [
    "transactions"
   ]
  },
  {
   "cell_type": "code",
   "execution_count": 565,
   "id": "36479138-c1d0-48d4-a7ae-f9732ce79668",
   "metadata": {
    "tags": []
   },
   "outputs": [],
   "source": [
    "tfidf_features_mcc = generate_tfidf_features(transactions, 'mcc_code')\n",
    "tfidf_features_type = generate_tfidf_features(transactions, 'trans_type')\n",
    "\n",
    "mcc_neg_amount = generate_pivot_features(transactions, 'mcc_code', 'amount_neg', ['mean'])\n",
    "mcc_pos_amount = generate_pivot_features(transactions, 'mcc_code', 'amount_pos', ['mean'])\n",
    "\n",
    "type_neg_amount = generate_pivot_features(transactions, 'trans_type', 'amount_neg', ['mean'])\n",
    "type_pos_amount = generate_pivot_features(transactions, 'trans_type', 'amount_pos', ['mean'])\n",
    "\n",
    "\n",
    "day_of_week1_features = generate_pivot_features(transactions, 'day', 'amount_pos', ['mean'])\n",
    "day_of_week2_features = generate_pivot_features(transactions, 'day', 'amount_neg', ['mean'])\n",
    "day_of_week_features = generate_pivot_features(transactions, 'day', 'amount', ['mean'])\n",
    "hour_features = generate_pivot_features(transactions, 'hour', 'amount', ['mean'])"
   ]
  },
  {
   "cell_type": "code",
   "execution_count": 566,
   "id": "2ea1e96c-171e-42a0-b256-00e3e58388c3",
   "metadata": {
    "tags": []
   },
   "outputs": [],
   "source": [
    "amount_agg = transactions.groupby('client_id').agg({\n",
    "    'amount_pos': ['mean', 'std', 'max', 'min'],\n",
    "    'amount_neg': ['mean', 'std', 'max', 'min'],\n",
    "    'amount': ['mean', 'std'],\n",
    "}).reset_index()\n",
    "\n",
    "amount_agg.columns = [f'{head}_{stat}' if stat != '' else head for head, stat in amount_agg.columns]"
   ]
  },
  {
   "cell_type": "code",
   "execution_count": 602,
   "id": "300ed2b5-c071-4e05-a5c3-52a1c2be9029",
   "metadata": {
    "tags": []
   },
   "outputs": [],
   "source": [
    "# merge features\n",
    "data = (\n",
    "    tfidf_features_mcc  \n",
    "    \n",
    "    .merge(mcc_neg_amount)\n",
    "    .merge(mcc_pos_amount)\n",
    "    \n",
    "    .merge(type_neg_amount)\n",
    "    .merge(type_pos_amount)\n",
    "    \n",
    "    .merge(day_of_week_features) \n",
    "    .merge(tfidf_features_type)\n",
    "    .merge(hour_features)\n",
    "    \n",
    "    .merge(amount_agg)\n",
    ").fillna(0).merge(genders, how='left')"
   ]
  },
  {
   "cell_type": "code",
   "execution_count": 603,
   "id": "ce2301e6-1dee-4cf4-8862-d7dded05ad61",
   "metadata": {
    "tags": []
   },
   "outputs": [],
   "source": [
    "data.drop(['client_id'], inplace=True, axis=1)"
   ]
  },
  {
   "cell_type": "code",
   "execution_count": 604,
   "id": "3644ea81-7cf3-4eae-bf8a-24b79833740a",
   "metadata": {
    "tags": []
   },
   "outputs": [],
   "source": [
    "# corr = data.corr()\n",
    "# high_corr = (abs(np.tril(corr)) - np.identity(corr.shape[0]) >= 0.9).nonzero()\n",
    "# data = data.drop(corr.columns[high_corr[0]], axis=1)"
   ]
  },
  {
   "cell_type": "code",
   "execution_count": 605,
   "id": "019d7505-734c-43ea-ab7b-01ab38d0743b",
   "metadata": {
    "tags": []
   },
   "outputs": [
    {
     "data": {
      "text/plain": [
       "(7704, 732)"
      ]
     },
     "execution_count": 605,
     "metadata": {},
     "output_type": "execute_result"
    }
   ],
   "source": [
    "data.shape"
   ]
  },
  {
   "cell_type": "code",
   "execution_count": 606,
   "id": "705637e1-59dd-4d6f-86b1-8b5ca9d3c615",
   "metadata": {
    "tags": []
   },
   "outputs": [
    {
     "name": "stderr",
     "output_type": "stream",
     "text": [
      "C:\\Users\\alexe\\AppData\\Local\\Temp\\ipykernel_23964\\2254477700.py:4: SettingWithCopyWarning: \n",
      "A value is trying to be set on a copy of a slice from a DataFrame\n",
      "\n",
      "See the caveats in the documentation: https://pandas.pydata.org/pandas-docs/stable/user_guide/indexing.html#returning-a-view-versus-a-copy\n",
      "  X.drop(['gender'], axis=1, inplace=True)\n"
     ]
    }
   ],
   "source": [
    "X_final_test = data[data['gender'].isna()].drop(['gender'], axis=1)\n",
    "X = data[~data['gender'].isna()]\n",
    "y = X['gender']\n",
    "X.drop(['gender'], axis=1, inplace=True)\n",
    "X_train, X_test, y_train, y_test = train_test_split(X, y, train_size=0.8, random_state=0)\n",
    "X_val, X_test, y_val, y_test = train_test_split(X_test, y_test, train_size=0.6, random_state=0)"
   ]
  },
  {
   "cell_type": "code",
   "execution_count": 607,
   "id": "f44d09e2-3c98-499c-baa2-5b942ead8b1f",
   "metadata": {
    "tags": []
   },
   "outputs": [
    {
     "data": {
      "text/plain": [
       "((5545,), (832,), (555,))"
      ]
     },
     "execution_count": 607,
     "metadata": {},
     "output_type": "execute_result"
    }
   ],
   "source": [
    "y_train.shape, y_val.shape, y_test.shape"
   ]
  },
  {
   "cell_type": "code",
   "execution_count": 620,
   "id": "f318ae06-657e-4818-b3e1-ce835dd003cf",
   "metadata": {
    "tags": []
   },
   "outputs": [],
   "source": [
    "scaler = MinMaxScaler(feature_range=(0, 1))\n",
    "scaler.fit(X_train)\n",
    "X_normed = scaler.transform(X)\n",
    "X_train_normed = scaler.transform(X_train)\n",
    "X_val_normed = scaler.transform(X_val)\n",
    "X_test_normed = scaler.transform(X_test)\n",
    "X_final_test_normed = scaler.transform(X_final_test)"
   ]
  },
  {
   "cell_type": "code",
   "execution_count": 609,
   "id": "599f8a81-1dc8-4250-8f71-e4096a2b156d",
   "metadata": {
    "tags": []
   },
   "outputs": [],
   "source": [
    "#ааааааааааааааа нахуй ML наконец то"
   ]
  },
  {
   "cell_type": "code",
   "execution_count": 610,
   "id": "2655ffde-3903-4e4e-a5e9-ebfbed8ddd6c",
   "metadata": {
    "tags": []
   },
   "outputs": [
    {
     "name": "stdout",
     "output_type": "stream",
     "text": [
      "[0]\tvalidation_0-auc:0.60653\n",
      "[50]\tvalidation_0-auc:0.83253\n",
      "[100]\tvalidation_0-auc:0.84966\n",
      "[150]\tvalidation_0-auc:0.86007\n",
      "[200]\tvalidation_0-auc:0.86828\n",
      "[250]\tvalidation_0-auc:0.87198\n",
      "[300]\tvalidation_0-auc:0.87314\n",
      "[350]\tvalidation_0-auc:0.87308\n",
      "[400]\tvalidation_0-auc:0.87409\n",
      "[450]\tvalidation_0-auc:0.87478\n",
      "[500]\tvalidation_0-auc:0.87523\n",
      "[550]\tvalidation_0-auc:0.87600\n",
      "[600]\tvalidation_0-auc:0.87700\n",
      "[650]\tvalidation_0-auc:0.87660\n",
      "[700]\tvalidation_0-auc:0.87637\n",
      "[712]\tvalidation_0-auc:0.87656\n",
      "test score 0.9010654688846526\n",
      "val score 0.877288895897948\n",
      "train score 0.9455943298390239\n"
     ]
    }
   ],
   "source": [
    "xgb = XGBClassifier(\n",
    "    eval_metric=\"auc\",\n",
    "    n_estimators=10000,\n",
    "    random_state=42, \n",
    "    verbosity=0, \n",
    "    eta = 0.04, \n",
    "    max_depth = 3, \n",
    "    gamma = 0.9,\n",
    "    min_child_weight=20,\n",
    "    colsample_bytree=0.3,\n",
    "    colsample_bynode=0.2,\n",
    "    subsample =0.9,\n",
    "    reg_lambda=0.6,\n",
    "    # reg_alpha=0.3,\n",
    "    early_stopping_rounds=100\n",
    ")\n",
    "\n",
    "\n",
    "xgb.fit(\n",
    "    X_train_normed, y_train, \n",
    "    eval_set=[[X_val_normed, y_val]], \n",
    "    verbose=50\n",
    ")\n",
    "\n",
    "\n",
    "xgb_test_preds = xgb.predict_proba(X_test_normed,\n",
    "                              iteration_range=(0, xgb.best_iteration + 1))\n",
    "xgb_val_preds = xgb.predict_proba(X_val_normed,\n",
    "                              iteration_range=(0, xgb.best_iteration + 1))\n",
    "xgb_train_preds = xgb.predict_proba(X_train_normed,\n",
    "                               iteration_range=(0, xgb.best_iteration + 1))\n",
    "\n",
    "print('test score', roc_auc_score(y_test, [i[1] for i in xgb_test_preds]))\n",
    "print('val score', roc_auc_score(y_val, [i[1] for i in xgb_val_preds]))\n",
    "print('train score', roc_auc_score(y_train, [i[1] for i in xgb_train_preds]))"
   ]
  },
  {
   "cell_type": "code",
   "execution_count": 611,
   "id": "3d47e13d-1d78-4a2b-b5be-f99bdd5aade6",
   "metadata": {
    "tags": []
   },
   "outputs": [
    {
     "name": "stdout",
     "output_type": "stream",
     "text": [
      "0:\ttest: 0.6966654\tbest: 0.6966654 (0)\ttotal: 6.74ms\tremaining: 1.34s\n",
      "50:\ttest: 0.8624326\tbest: 0.8624326 (50)\ttotal: 290ms\tremaining: 847ms\n",
      "100:\ttest: 0.8698184\tbest: 0.8700462 (97)\ttotal: 577ms\tremaining: 566ms\n",
      "150:\ttest: 0.8696257\tbest: 0.8704726 (117)\ttotal: 854ms\tremaining: 277ms\n",
      "Stopped by overfitting detector  (50 iterations wait)\n",
      "\n",
      "bestTest = 0.8704725858\n",
      "bestIteration = 117\n",
      "\n",
      "Shrink model to first 118 iterations.\n",
      "test score 0.8942104301047188\n",
      "val score 0.8704725858171687\n",
      "train score 0.9287542688042064\n"
     ]
    }
   ],
   "source": [
    "clf = CatBoostClassifier(iterations=200,\n",
    "                         thread_count=-1,\n",
    "                         random_seed=42,\n",
    "                         eta = 0.3,\n",
    "                         eval_metric='AUC',\n",
    "                         l2_leaf_reg=5,\n",
    "                         min_data_in_leaf=15,\n",
    "                         subsample =0.9,\n",
    "                         depth = 2\n",
    "                         \n",
    "                        )\n",
    "\n",
    "clf.fit(\n",
    "    X_train_normed,\n",
    "    y_train,\n",
    "    eval_set=(X_val_normed, y_val),\n",
    "    verbose=50,\n",
    "    use_best_model=True,\n",
    "    early_stopping_rounds=50,\n",
    ")\n",
    "\n",
    "\n",
    "clf_test_preds = clf.predict_proba(X_test_normed)\n",
    "clf_val_preds = clf.predict_proba(X_val_normed)\n",
    "clf_train_preds = clf.predict_proba(X_train_normed)\n",
    "\n",
    "print('test score', roc_auc_score(y_test, [i[1] for i in clf_test_preds]))\n",
    "print('val score', roc_auc_score(y_val, [i[1] for i in clf_val_preds]))\n",
    "print('train score', roc_auc_score(y_train, [i[1] for i in clf_train_preds]))"
   ]
  },
  {
   "cell_type": "code",
   "execution_count": 626,
   "id": "c668a316-13ac-4984-a437-ed72d7db3cf8",
   "metadata": {
    "tags": []
   },
   "outputs": [
    {
     "data": {
      "text/plain": [
       "((555, 2), (555, 2))"
      ]
     },
     "execution_count": 626,
     "metadata": {},
     "output_type": "execute_result"
    }
   ],
   "source": [
    "xgb_test_preds.shape, clf_test_preds.shape"
   ]
  },
  {
   "cell_type": "code",
   "execution_count": 632,
   "id": "eec6fba5-1dec-42e2-ad8c-882b443c5251",
   "metadata": {
    "tags": []
   },
   "outputs": [],
   "source": [
    "X_test_new = np.concatenate((xgb_test_preds, clf_test_preds), axis=1)\n",
    "X_train_new = np.concatenate((xgb_train_preds, clf_train_preds), axis=1)"
   ]
  },
  {
   "cell_type": "code",
   "execution_count": 634,
   "id": "6795b971-4c43-4a1b-834b-084990ddaa65",
   "metadata": {
    "tags": []
   },
   "outputs": [
    {
     "data": {
      "text/plain": [
       "((5545,), (5545, 4))"
      ]
     },
     "execution_count": 634,
     "metadata": {},
     "output_type": "execute_result"
    }
   ],
   "source": [
    "y_train.shape, X_train_new.shape"
   ]
  },
  {
   "cell_type": "code",
   "execution_count": 623,
   "id": "c64b7ff7-3afb-4fd6-ad52-6fb32af1df16",
   "metadata": {
    "tags": []
   },
   "outputs": [
    {
     "name": "stdout",
     "output_type": "stream",
     "text": [
      "[0]\tvalidation_0-auc:0.61901\n",
      "[978]\tvalidation_0-auc:0.88100\n",
      "val score 0.881242426040016\n",
      "[0]\tvalidation_0-auc:0.63022\n",
      "[1088]\tvalidation_0-auc:0.87783\n",
      "val score 0.877888520366552\n",
      "[0]\tvalidation_0-auc:0.66330\n",
      "[599]\tvalidation_0-auc:0.88617\n",
      "val score 0.8868027837910973\n",
      "[0]\tvalidation_0-auc:0.65080\n",
      "[794]\tvalidation_0-auc:0.90464\n",
      "val score 0.904945260923988\n",
      "[0]\tvalidation_0-auc:0.59317\n",
      "[930]\tvalidation_0-auc:0.88594\n",
      "val score 0.8863169996174922\n"
     ]
    }
   ],
   "source": [
    "def cv_xgb(model, X, y, scoring='roc_auc', cv=5, **kwargs):\n",
    "    kf = KFold(cv, shuffle=True)\n",
    "\n",
    "    importances_ = []\n",
    "    for train_index, valid_index in kf.split(X):\n",
    "        X_train, X_valid = X.iloc[train_index], X.iloc[valid_index]\n",
    "        y_train, y_valid = y.iloc[train_index], y.iloc[valid_index]\n",
    "\n",
    "        model.fit(X_train, y_train, eval_set=[[X_valid, y_valid]], verbose=10000)\n",
    "        \n",
    "        xgb_val_preds = xgb.predict_proba(X_valid,\n",
    "                              iteration_range=(0, xgb.best_iteration + 1))\n",
    "        \n",
    "        print('val score', roc_auc_score(y_valid, [i[1] for i in xgb_val_preds]))\n",
    "\n",
    "    \n",
    "\n",
    "\n",
    "xgb = XGBClassifier(\n",
    "    eval_metric=\"auc\",\n",
    "    n_estimators=10000,\n",
    "    random_state=42, \n",
    "    verbosity=0, \n",
    "    eta = 0.04, \n",
    "    max_depth = 3, \n",
    "    gamma = 0.9,\n",
    "    min_child_weight=20,\n",
    "    colsample_bytree=0.3,\n",
    "    colsample_bynode=0.2,\n",
    "    subsample =0.9,\n",
    "    reg_lambda=0.6,\n",
    "    # reg_alpha=0.3,\n",
    "    early_stopping_rounds=100\n",
    ")\n",
    "\n",
    "cv_xgb(xgb, X, y)"
   ]
  },
  {
   "cell_type": "code",
   "execution_count": 638,
   "id": "6ef9843d-f9a4-449f-9568-2c0b39e3ecb6",
   "metadata": {
    "tags": []
   },
   "outputs": [
    {
     "name": "stdout",
     "output_type": "stream",
     "text": [
      "test score 0.9002428642310605\n",
      "train score 0.9461197312882708\n"
     ]
    }
   ],
   "source": [
    "from sklearn.datasets import load_iris\n",
    "from sklearn.linear_model import LogisticRegression\n",
    "clf = LogisticRegression(random_state=0).fit(X_train_new, y_train)\n",
    "test_ans = clf.predict_proba(X_test_new)\n",
    "train_ans = clf.predict_proba(X_train_new)\n",
    "print('test score', roc_auc_score(y_test, [i[1] for i in test_ans]))\n",
    "print('train score', roc_auc_score(y_train, [i[1] for i in train_ans]))"
   ]
  }
 ],
 "metadata": {
  "kernelspec": {
   "display_name": "Python 3 (ipykernel)",
   "language": "python",
   "name": "python3"
  },
  "language_info": {
   "codemirror_mode": {
    "name": "ipython",
    "version": 3
   },
   "file_extension": ".py",
   "mimetype": "text/x-python",
   "name": "python",
   "nbconvert_exporter": "python",
   "pygments_lexer": "ipython3",
   "version": "3.11.5"
  }
 },
 "nbformat": 4,
 "nbformat_minor": 5
}
